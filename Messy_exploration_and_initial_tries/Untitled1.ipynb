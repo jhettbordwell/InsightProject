{
 "cells": [
  {
   "cell_type": "markdown",
   "metadata": {},
   "source": [
    "# This file will allow me to explore different classification schemes and make graphics\n",
    "\n",
    "* First, import clusters of side effects file\n",
    "* Next randomly toss them together with random sets of weights to establish a wide range of target variables to play with\n",
    "* Start off not weighting the effectiveness metric\n",
    "\n",
    "* Grab a bunch of different classifiers that work with continuous variables\n",
    "* Run them, and extract feature importances to rank medications\n",
    "* Compare to frequencies of side effects mentioned inferred from SIDER (may need to cluster SIDER side effects CUIs...)\n",
    "\n",
    "\n",
    "* CV IDEAS: Compare w0=1 to Treatment guidelines, w0=0 to Side effect frequencies, and w0=0.5 (gray area) to both plus satisfaction"
   ]
  },
  {
   "cell_type": "code",
   "execution_count": null,
   "metadata": {},
   "outputs": [],
   "source": []
  }
 ],
 "metadata": {
  "kernelspec": {
   "display_name": "Python 3",
   "language": "python",
   "name": "python3"
  },
  "language_info": {
   "codemirror_mode": {
    "name": "ipython",
    "version": 3
   },
   "file_extension": ".py",
   "mimetype": "text/x-python",
   "name": "python",
   "nbconvert_exporter": "python",
   "pygments_lexer": "ipython3",
   "version": "3.6.9"
  }
 },
 "nbformat": 4,
 "nbformat_minor": 2
}

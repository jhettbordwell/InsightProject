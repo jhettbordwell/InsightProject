{
 "cells": [
  {
   "cell_type": "code",
   "execution_count": 5,
   "metadata": {},
   "outputs": [],
   "source": [
    "import nltk\n",
    "from nltk.corpus import wordnet\n",
    "#nltk.download('wordnet')"
   ]
  },
  {
   "cell_type": "code",
   "execution_count": 6,
   "metadata": {},
   "outputs": [],
   "source": [
    "def get_SynAnt(word):\n",
    "    #https://www.geeksforgeeks.org/get-synonymsantonyms-nltk-wordnet-python/\n",
    "    synonyms = []\n",
    "    antonyms = []\n",
    "\n",
    "    for syn in wordnet.synsets(word):\n",
    "        for l in syn.lemmas():\n",
    "            synonyms.append(l.name())\n",
    "            if l.antonyms():\n",
    "                antonyms.append(l.antonyms()[0].name())\n",
    "\n",
    "    return synonyms, antonyms"
   ]
  },
  {
   "cell_type": "code",
   "execution_count": 25,
   "metadata": {},
   "outputs": [],
   "source": [
    "decs = get_SynAnt('like')\n"
   ]
  },
  {
   "cell_type": "code",
   "execution_count": 26,
   "metadata": {},
   "outputs": [
    {
     "data": {
      "text/plain": [
       "(['like',\n",
       "  'the_like',\n",
       "  'the_likes_of',\n",
       "  'like',\n",
       "  'ilk',\n",
       "  'wish',\n",
       "  'care',\n",
       "  'like',\n",
       "  'like',\n",
       "  'like',\n",
       "  'like',\n",
       "  'like',\n",
       "  'like',\n",
       "  'similar',\n",
       "  'like',\n",
       "  'same',\n",
       "  'alike',\n",
       "  'similar',\n",
       "  'like',\n",
       "  'comparable',\n",
       "  'corresponding',\n",
       "  'like'],\n",
       " ['dislike', 'unlike', 'unlike', 'unalike'])"
      ]
     },
     "execution_count": 26,
     "metadata": {},
     "output_type": "execute_result"
    }
   ],
   "source": [
    "decs"
   ]
  },
  {
   "cell_type": "code",
   "execution_count": null,
   "metadata": {},
   "outputs": [],
   "source": []
  }
 ],
 "metadata": {
  "kernelspec": {
   "display_name": "Python 3",
   "language": "python",
   "name": "python3"
  },
  "language_info": {
   "codemirror_mode": {
    "name": "ipython",
    "version": 3
   },
   "file_extension": ".py",
   "mimetype": "text/x-python",
   "name": "python",
   "nbconvert_exporter": "python",
   "pygments_lexer": "ipython3",
   "version": "3.6.9"
  }
 },
 "nbformat": 4,
 "nbformat_minor": 2
}
